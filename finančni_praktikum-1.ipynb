{
 "cells": [
  {
   "cell_type": "markdown",
   "metadata": {
    "collapsed": false
   },
   "source": [
    "# Maksimizacija vsote robov"
   ]
  },
  {
   "cell_type": "code",
   "execution_count": 22,
   "metadata": {
    "collapsed": false
   },
   "outputs": [
   ],
   "source": [
    "clp = MixedIntegerLinearProgram(maximization=True)"
   ]
  },
  {
   "cell_type": "code",
   "execution_count": 23,
   "metadata": {
    "collapsed": false,
    "scrolled": true
   },
   "outputs": [
   ],
   "source": [
    "x = clp.new_variable(binary=True)"
   ]
  },
  {
   "cell_type": "code",
   "execution_count": 24,
   "metadata": {
    "collapsed": false
   },
   "outputs": [
   ],
   "source": [
    "n = 12"
   ]
  },
  {
   "cell_type": "code",
   "execution_count": 25,
   "metadata": {
    "collapsed": false
   },
   "outputs": [
   ],
   "source": [
    "for i in range(n):\n",
    "    clp.add_constraint(sum(x[i, j] + 2*x[j, i] for j in range(n)) == 2)"
   ]
  },
  {
   "cell_type": "markdown",
   "metadata": {
    "collapsed": false
   },
   "source": [
    "## Naključni izbor točk"
   ]
  },
  {
   "cell_type": "code",
   "execution_count": 26,
   "metadata": {
    "collapsed": false
   },
   "outputs": [
   ],
   "source": [
    "p = {i: (random(), random()) for i in range(n)}"
   ]
  },
  {
   "cell_type": "code",
   "execution_count": 27,
   "metadata": {
    "collapsed": false
   },
   "outputs": [
    {
     "data": {
      "text/plain": [
       "dict_keys([0, 1, 2, 3, 4, 5, 6, 7, 8, 9, 10, 11])"
      ]
     },
     "execution_count": 27,
     "metadata": {
     },
     "output_type": "execute_result"
    }
   ],
   "source": [
    "p.keys()"
   ]
  },
  {
   "cell_type": "code",
   "execution_count": 28,
   "metadata": {
    "collapsed": false
   },
   "outputs": [
    {
     "data": {
      "text/plain": [
       "dict_values([(0.8064718589693007, 0.8411796095805716), (0.28065199394589435, 0.6427863627906495), (0.6896351711710866, 0.08304468259131825), (0.6984905919739138, 0.2735583934245738), (0.7343919552669151, 0.5157725064299172), (0.31136393107000404, 0.06507820804888076), (0.685014722220942, 0.9004372382386687), (0.27918894078512835, 0.2185902504077114), (0.24678992054877769, 0.2820272664315431), (0.06384846386410259, 0.38324927739180104), (0.4948466715999337, 0.4631721886640946), (0.6187256483233591, 0.22414412903023107)])"
      ]
     },
     "execution_count": 28,
     "metadata": {
     },
     "output_type": "execute_result"
    }
   ],
   "source": [
    "p.values()"
   ]
  },
  {
   "cell_type": "code",
   "execution_count": 29,
   "metadata": {
    "collapsed": false
   },
   "outputs": [
    {
     "data": {
      "text/plain": [
       "{0: (0.8064718589693007, 0.8411796095805716),\n",
       " 1: (0.28065199394589435, 0.6427863627906495),\n",
       " 2: (0.6896351711710866, 0.08304468259131825),\n",
       " 3: (0.6984905919739138, 0.2735583934245738),\n",
       " 4: (0.7343919552669151, 0.5157725064299172),\n",
       " 5: (0.31136393107000404, 0.06507820804888076),\n",
       " 6: (0.685014722220942, 0.9004372382386687),\n",
       " 7: (0.27918894078512835, 0.2185902504077114),\n",
       " 8: (0.24678992054877769, 0.2820272664315431),\n",
       " 9: (0.06384846386410259, 0.38324927739180104),\n",
       " 10: (0.4948466715999337, 0.4631721886640946),\n",
       " 11: (0.6187256483233591, 0.22414412903023107)}"
      ]
     },
     "execution_count": 29,
     "metadata": {
     },
     "output_type": "execute_result"
    }
   ],
   "source": [
    "p"
   ]
  },
  {
   "cell_type": "markdown",
   "metadata": {
    "collapsed": false
   },
   "source": [
    "## V matriki M so dolžine med točkami"
   ]
  },
  {
   "cell_type": "code",
   "execution_count": 30,
   "metadata": {
    "collapsed": false
   },
   "outputs": [
   ],
   "source": [
    "M = matrix(RR,n)\n"
   ]
  },
  {
   "cell_type": "code",
   "execution_count": 31,
   "metadata": {
    "collapsed": false
   },
   "outputs": [
   ],
   "source": [
    "for i in range(n):\n",
    "    for j in range(n):\n",
    "        M[i,j] = (((p[i][0])-(p[j][0]))^2 + ((p[i][1])-(p[j][1]))^2)^((0.5))"
   ]
  },
  {
   "cell_type": "code",
   "execution_count": 32,
   "metadata": {
    "collapsed": false
   },
   "outputs": [
    {
     "data": {
      "text/plain": [
       "'[ 0.000000000000000  0.562002144858078  0.767084988209688  0.577800829916627  0.333294607365084  0.920578755853181  0.135141787102622  0.815870569369976  0.791135396151129  0.872461859393343  0.489897813498815  0.644966219169578]\\n[ 0.562002144858078  0.000000000000000  0.693237324302135  0.557600562557299  0.471181994782511  0.578523927886353  0.479471781898759  0.424198635411937  0.362344815915159  0.338176387929813  0.279536422461335  0.538103257444188]\\n[ 0.767084988209688  0.693237324302135  0.000000000000000  0.190719407751420  0.435036250497232  0.378697670041809  0.817405614475584  0.432248434343852  0.485495607261763  0.694069018024461  0.427129348603312  0.157915212110360]\\n[ 0.577800829916627  0.557600562557299  0.190719407751420  0.000000000000000  0.244860336570179  0.439694256588478  0.627023671914429  0.422889313457274  0.451780055310023  0.644051799777985  0.278252111672884 0.0938307825887122]\\n[ 0.333294607365084  0.471181994782511  0.435036250497232  0.244860336570179  0.000000000000000  0.618124631323746  0.387820921355173  0.543624022360817  0.540733373746401  0.683513701470104  0.245252393171117  0.313728871904922]\\n[ 0.920578755853181  0.578523927886353  0.378697670041809  0.439694256588478  0.618124631323746  0.000000000000000  0.915117272838484  0.156847623982677  0.226355244622075  0.403108838743302  0.438343168618424  0.346082638181369]\\n[ 0.135141787102622  0.479471781898759  0.817405614475584  0.627023671914429  0.387820921355173  0.915117272838484  0.000000000000000  0.793479602568420  0.757939225816356  0.808288876185969  0.476827653409960  0.679534113110604]\\n[ 0.815870569369976  0.424198635411937  0.432248434343852  0.422889313457274  0.543624022360817  0.156847623982677  0.793479602568420  0.000000000000000 0.0712316749366694  0.271079538453056  0.326080636317829  0.339582127523896]\\n[ 0.791135396151129  0.362344815915159  0.485495607261763  0.451780055310023  0.540733373746401  0.226355244622075  0.757939225816356 0.0712316749366694  0.000000000000000  0.209077669962025  0.307157345008535  0.376412862679567]\\n[ 0.872461859393343  0.338176387929813  0.694069018024461  0.644051799777985  0.683513701470104  0.403108838743302  0.808288876185969  0.271079538453056  0.209077669962025  0.000000000000000  0.438345898598056  0.577237505770882]\\n[ 0.489897813498815  0.279536422461335  0.427129348603312  0.278252111672884  0.245252393171117  0.438343168618424  0.476827653409960  0.326080636317829  0.307157345008535  0.438345898598056  0.000000000000000  0.269221867920072]\\n[ 0.644966219169578  0.538103257444188  0.157915212110360 0.0938307825887122  0.313728871904922  0.346082638181369  0.679534113110604  0.339582127523896  0.376412862679567  0.577237505770882  0.269221867920072  0.000000000000000]'"
      ]
     },
     "execution_count": 32,
     "metadata": {
     },
     "output_type": "execute_result"
    }
   ],
   "source": [
    "str(M)"
   ]
  },
  {
   "cell_type": "markdown",
   "metadata": {
    "collapsed": false
   },
   "source": [
    "## Funkcija 'seka' pove ali daljica ij seka daljico lk"
   ]
  },
  {
   "cell_type": "code",
   "execution_count": 33,
   "metadata": {
    "collapsed": false
   },
   "outputs": [
   ],
   "source": [
    "def zasuk(a,b,c):\n",
    "    A = matrix(RR,3)\n",
    "    A[0] = (1, p[a][0],p[a][1])\n",
    "    A[1] = (1, p[b][0],p[b][1])\n",
    "    A[2] = (1, p[c][0],p[c][1])\n",
    "    return(det(A))"
   ]
  },
  {
   "cell_type": "code",
   "execution_count": 34,
   "metadata": {
    "collapsed": false
   },
   "outputs": [
   ],
   "source": [
    "def seka(a,b,c,d):\n",
    "    if zasuk(a,b,c)*zasuk(a,b,d)<0 and zasuk(a,c,d)*zasuk(b,c,d)<0:\n",
    "        return(1)\n",
    "    else:\n",
    "        return(0)"
   ]
  },
  {
   "cell_type": "code",
   "execution_count": 35,
   "metadata": {
    "collapsed": false
   },
   "outputs": [
    {
     "data": {
      "text/plain": [
       "0"
      ]
     },
     "execution_count": 35,
     "metadata": {
     },
     "output_type": "execute_result"
    }
   ],
   "source": [
    "seka(1,2,3,4)"
   ]
  },
  {
   "cell_type": "code",
   "execution_count": 36,
   "metadata": {
    "collapsed": false
   },
   "outputs": [
    {
     "data": {
      "text/plain": [
       "0.0828736508805930"
      ]
     },
     "execution_count": 36,
     "metadata": {
     },
     "output_type": "execute_result"
    }
   ],
   "source": [
    "zasuk(1,2,3)"
   ]
  },
  {
   "cell_type": "markdown",
   "metadata": {
    "collapsed": false
   },
   "source": [
    "## Pogoj vzame zelo veliko časa. Za n=18 računa nekaj minut. Za večji n zmanjka prostora."
   ]
  },
  {
   "cell_type": "code",
   "execution_count": 37,
   "metadata": {
    "collapsed": false
   },
   "outputs": [
   ],
   "source": [
    "for i in range(n):\n",
    "    for j in range(n):\n",
    "        for k in range(n):\n",
    "            for l in range(n):\n",
    "                clp.add_constraint(x[i,j]+x[j,i]+x[k,l]+x[l,k]+seka(i,j,k,l)<=2)"
   ]
  },
  {
   "cell_type": "code",
   "execution_count": 38,
   "metadata": {
    "collapsed": false
   },
   "outputs": [
   ],
   "source": [
    "clp.set_objective(sum(x[i, j]*M[i,j] for i in range(n) for j in range(n)))"
   ]
  },
  {
   "cell_type": "code",
   "execution_count": 39,
   "metadata": {
    "collapsed": false
   },
   "outputs": [
    {
     "data": {
      "text/plain": [
       "4.501462595894036"
      ]
     },
     "execution_count": 39,
     "metadata": {
     },
     "output_type": "execute_result"
    }
   ],
   "source": [
    "clp.solve()"
   ]
  },
  {
   "cell_type": "code",
   "execution_count": 40,
   "metadata": {
    "collapsed": false
   },
   "outputs": [
    {
     "data": {
      "text/plain": [
       "{(0, 0): 0.0,\n",
       " (0, 1): 0.0,\n",
       " (1, 0): 0.0,\n",
       " (0, 2): 1.0,\n",
       " (2, 0): 0.0,\n",
       " (0, 3): 0.0,\n",
       " (3, 0): 0.0,\n",
       " (0, 4): 0.0,\n",
       " (4, 0): 0.0,\n",
       " (0, 5): 0.0,\n",
       " (5, 0): 0.0,\n",
       " (0, 6): 0.0,\n",
       " (6, 0): 0.0,\n",
       " (0, 7): 0.0,\n",
       " (7, 0): 0.0,\n",
       " (0, 8): 1.0,\n",
       " (8, 0): 0.0,\n",
       " (0, 9): 0.0,\n",
       " (9, 0): 0.0,\n",
       " (0, 10): 0.0,\n",
       " (10, 0): 0.0,\n",
       " (0, 11): 0.0,\n",
       " (11, 0): 0.0,\n",
       " (1, 1): 0.0,\n",
       " (1, 2): 0.0,\n",
       " (2, 1): 0.0,\n",
       " (1, 3): 0.0,\n",
       " (3, 1): 0.0,\n",
       " (1, 4): 0.0,\n",
       " (4, 1): 0.0,\n",
       " (1, 5): 0.0,\n",
       " (5, 1): 0.0,\n",
       " (1, 6): 0.0,\n",
       " (6, 1): 1.0,\n",
       " (1, 7): 0.0,\n",
       " (7, 1): 0.0,\n",
       " (1, 8): 0.0,\n",
       " (8, 1): 0.0,\n",
       " (1, 9): 0.0,\n",
       " (9, 1): 0.0,\n",
       " (1, 10): 0.0,\n",
       " (10, 1): 0.0,\n",
       " (1, 11): 0.0,\n",
       " (11, 1): 0.0,\n",
       " (2, 2): 0.0,\n",
       " (2, 3): 0.0,\n",
       " (3, 2): 0.0,\n",
       " (2, 4): 0.0,\n",
       " (4, 2): 0.0,\n",
       " (2, 5): 0.0,\n",
       " (5, 2): 0.0,\n",
       " (2, 6): 0.0,\n",
       " (6, 2): 0.0,\n",
       " (2, 7): 0.0,\n",
       " (7, 2): 0.0,\n",
       " (2, 8): 0.0,\n",
       " (8, 2): 0.0,\n",
       " (2, 9): 0.0,\n",
       " (9, 2): 0.0,\n",
       " (2, 10): 0.0,\n",
       " (10, 2): 0.0,\n",
       " (2, 11): 0.0,\n",
       " (11, 2): 0.0,\n",
       " (3, 3): 0.0,\n",
       " (3, 4): 0.0,\n",
       " (4, 3): 0.0,\n",
       " (3, 5): 0.0,\n",
       " (5, 3): 1.0,\n",
       " (3, 6): 0.0,\n",
       " (6, 3): 0.0,\n",
       " (3, 7): 0.0,\n",
       " (7, 3): 0.0,\n",
       " (3, 8): 0.0,\n",
       " (8, 3): 0.0,\n",
       " (3, 9): 0.0,\n",
       " (9, 3): 0.0,\n",
       " (3, 10): 0.0,\n",
       " (10, 3): 0.0,\n",
       " (3, 11): 0.0,\n",
       " (11, 3): 0.0,\n",
       " (4, 4): 0.0,\n",
       " (4, 5): 0.0,\n",
       " (5, 4): 0.0,\n",
       " (4, 6): 0.0,\n",
       " (6, 4): 0.0,\n",
       " (4, 7): 0.0,\n",
       " (7, 4): 1.0,\n",
       " (4, 8): 0.0,\n",
       " (8, 4): 0.0,\n",
       " (4, 9): 0.0,\n",
       " (9, 4): 0.0,\n",
       " (4, 10): 0.0,\n",
       " (10, 4): 0.0,\n",
       " (4, 11): 0.0,\n",
       " (11, 4): 0.0,\n",
       " (5, 5): 0.0,\n",
       " (5, 6): 0.0,\n",
       " (6, 5): 0.0,\n",
       " (5, 7): 0.0,\n",
       " (7, 5): 0.0,\n",
       " (5, 8): 0.0,\n",
       " (8, 5): 0.0,\n",
       " (5, 9): 0.0,\n",
       " (9, 5): 0.0,\n",
       " (5, 10): 0.0,\n",
       " (10, 5): 0.0,\n",
       " (5, 11): 1.0,\n",
       " (11, 5): 0.0,\n",
       " (6, 6): 0.0,\n",
       " (6, 7): 0.0,\n",
       " (7, 6): 0.0,\n",
       " (6, 8): 0.0,\n",
       " (8, 6): 0.0,\n",
       " (6, 9): 1.0,\n",
       " (9, 6): 0.0,\n",
       " (6, 10): 0.0,\n",
       " (10, 6): 0.0,\n",
       " (6, 11): 0.0,\n",
       " (11, 6): 0.0,\n",
       " (7, 7): 0.0,\n",
       " (7, 8): 0.0,\n",
       " (8, 7): 0.0,\n",
       " (7, 9): 0.0,\n",
       " (9, 7): 0.0,\n",
       " (7, 10): 1.0,\n",
       " (10, 7): 0.0,\n",
       " (7, 11): 0.0,\n",
       " (11, 7): 0.0,\n",
       " (8, 8): 0.0,\n",
       " (8, 9): 0.0,\n",
       " (9, 8): 0.0,\n",
       " (8, 10): 0.0,\n",
       " (10, 8): 0.0,\n",
       " (8, 11): 0.0,\n",
       " (11, 8): 0.0,\n",
       " (9, 9): 0.0,\n",
       " (9, 10): 0.0,\n",
       " (10, 9): 0.0,\n",
       " (9, 11): 0.0,\n",
       " (11, 9): 0.0,\n",
       " (10, 10): 0.0,\n",
       " (10, 11): 0.0,\n",
       " (11, 10): 0.0,\n",
       " (11, 11): 0.0}"
      ]
     },
     "execution_count": 40,
     "metadata": {
     },
     "output_type": "execute_result"
    }
   ],
   "source": [
    "povezave = clp.get_values(x)\n",
    "povezave"
   ]
  },
  {
   "cell_type": "code",
   "execution_count": 41,
   "metadata": {
    "collapsed": false
   },
   "outputs": [
   ],
   "source": [
    "G = Graph([e for e, v in clp.get_values(x).items() if v == 1])\n",
    "G._pos = p"
   ]
  },
  {
   "cell_type": "code",
   "execution_count": 42,
   "metadata": {
    "collapsed": false
   },
   "outputs": [
    {
     "data": {
      "image/png": "[encoded data removed]",
      "text/plain": [
       "Graphics object consisting of 21 graphics primitives"
      ]
     },
     "execution_count": 42,
     "metadata": {
     },
     "output_type": "execute_result"
    }
   ],
   "source": [
    "G.plot()"
   ]
  },
  {
   "cell_type": "markdown",
   "metadata": {
    "collapsed": false
   },
   "source": [
    "# Maksimizacija najkrajšega roba"
   ]
  },
  {
   "cell_type": "code",
   "execution_count": 24,
   "metadata": {
    "collapsed": false
   },
   "outputs": [
   ],
   "source": [
    "clp2 = MixedIntegerLinearProgram(maximization=True)"
   ]
  },
  {
   "cell_type": "code",
   "execution_count": 25,
   "metadata": {
    "collapsed": false
   },
   "outputs": [
   ],
   "source": [
    "y = clp2.new_variable(binary=True)"
   ]
  },
  {
   "cell_type": "code",
   "execution_count": 26,
   "metadata": {
    "collapsed": false
   },
   "outputs": [
   ],
   "source": [
    "for i in range(n):\n",
    "    clp2.add_constraint(sum(y[i, j] + 2*y[j, i] for j in range(n)) == 2)"
   ]
  },
  {
   "cell_type": "code",
   "execution_count": 27,
   "metadata": {
    "collapsed": false
   },
   "outputs": [
   ],
   "source": [
    "for i in range(n):\n",
    "    for j in range(n):\n",
    "        for k in range(n):\n",
    "            for l in range(n):\n",
    "                clp2.add_constraint(y[i,j]+y[j,i]+y[k,l]+y[l,k]+seka(i,j,k,l)<=2)"
   ]
  },
  {
   "cell_type": "code",
   "execution_count": 28,
   "metadata": {
    "collapsed": false
   },
   "outputs": [
   ],
   "source": [
    "from heapq import nlargest"
   ]
  },
  {
   "cell_type": "code",
   "execution_count": 29,
   "metadata": {
    "collapsed": false
   },
   "outputs": [
    {
     "data": {
      "text/plain": [
       "[0.913280777181810, 0.913280777181810, 0.909693987108971]"
      ]
     },
     "execution_count": 29,
     "metadata": {
     },
     "output_type": "execute_result"
    }
   ],
   "source": [
    "nlargest(3,(M[i,j] for i in range(n) for j in range(n)))"
   ]
  },
  {
   "cell_type": "code",
   "execution_count": 81,
   "metadata": {
    "collapsed": false,
    "scrolled": true
   },
   "outputs": [
    {
     "data": {
      "text/plain": [
       "[0.000000000000000,\n",
       " 0.000000000000000,\n",
       " 0.000000000000000,\n",
       " 0.000000000000000,\n",
       " 0.000000000000000,\n",
       " 0.000000000000000,\n",
       " 0.000000000000000,\n",
       " 0.000000000000000,\n",
       " 0.000000000000000,\n",
       " 0.0795404998181121,\n",
       " 0.0795404998181121,\n",
       " 0.0953065800488907,\n",
       " 0.0953065800488907,\n",
       " 0.156359879053657,\n",
       " 0.156359879053657,\n",
       " 0.161422594503783,\n",
       " 0.161422594503783,\n",
       " 0.228250993293199,\n",
       " 0.228250993293199,\n",
       " 0.246840158532472,\n",
       " 0.246840158532472,\n",
       " 0.251113727077339,\n",
       " 0.251113727077339,\n",
       " 0.322094830726306,\n",
       " 0.322094830726306,\n",
       " 0.348601695753781,\n",
       " 0.348601695753781,\n",
       " 0.449281066700106,\n",
       " 0.449281066700106,\n",
       " 0.496955712998949,\n",
       " 0.496955712998949,\n",
       " 0.518281827275488,\n",
       " 0.518281827275488,\n",
       " 0.526282510378465,\n",
       " 0.526282510378465,\n",
       " 0.558020329542142,\n",
       " 0.558020329542142,\n",
       " 0.564967646846127,\n",
       " 0.564967646846127,\n",
       " 0.615481011331659,\n",
       " 0.615481011331659,\n",
       " 0.641584936909012,\n",
       " 0.641584936909012,\n",
       " 0.668530672442328,\n",
       " 0.668530672442328,\n",
       " 0.676913834534086,\n",
       " 0.676913834534086,\n",
       " 0.680905338920181,\n",
       " 0.680905338920181,\n",
       " 0.681612534873343,\n",
       " 0.681612534873343,\n",
       " 0.684724615105488,\n",
       " 0.684724615105488,\n",
       " 0.692593416974298,\n",
       " 0.692593416974298,\n",
       " 0.712406764263711,\n",
       " 0.712406764263711,\n",
       " 0.721320914431802,\n",
       " 0.721320914431802,\n",
       " 0.740365031011966,\n",
       " 0.740365031011966,\n",
       " 0.781291267503900,\n",
       " 0.781291267503900,\n",
       " 0.819666357626331,\n",
       " 0.819666357626331,\n",
       " 0.822572523905014,\n",
       " 0.822572523905014,\n",
       " 0.831261674749422,\n",
       " 0.831261674749422,\n",
       " 0.882340221392641,\n",
       " 0.882340221392641,\n",
       " 0.904722878214947,\n",
       " 0.904722878214947,\n",
       " 0.958301770693986,\n",
       " 0.958301770693986,\n",
       " 1.02519359300568,\n",
       " 1.02519359300568,\n",
       " 1.11739362827963,\n",
       " 1.11739362827963,\n",
       " 1.17124555097897,\n",
       " 1.17124555097897]"
      ]
     },
     "execution_count": 81,
     "metadata": {
     },
     "output_type": "execute_result"
    }
   ],
   "source": [
    "sorted(M[i,j] for i in range(n) for j in range(n))"
   ]
  },
  {
   "cell_type": "code",
   "execution_count": 65,
   "metadata": {
    "collapsed": false
   },
   "outputs": [
    {
     "data": {
      "text/plain": [
       "1.02519359300568"
      ]
     },
     "execution_count": 65,
     "metadata": {
     },
     "output_type": "execute_result"
    }
   ],
   "source": [
    "sorted(M[i,j] for i in range(n) for j in range(n))[-6]"
   ]
  },
  {
   "cell_type": "code",
   "execution_count": 56,
   "metadata": {
    "collapsed": false
   },
   "outputs": [
    {
     "data": {
      "text/plain": [
       "1.17124555097897"
      ]
     },
     "execution_count": 56,
     "metadata": {
     },
     "output_type": "execute_result"
    }
   ],
   "source": [
    "max_symbolic(M[i,j] for i in range(n) for j in range(n))"
   ]
  },
  {
   "cell_type": "code",
   "execution_count": 71,
   "metadata": {
    "collapsed": false
   },
   "outputs": [
    {
     "data": {
      "text/plain": [
       "0.0795404998181121"
      ]
     },
     "execution_count": 71,
     "metadata": {
     },
     "output_type": "execute_result"
    }
   ],
   "source": [
    "min_symbolic(M[i,j] for i in range(n) for j in range(i+1,n))"
   ]
  },
  {
   "cell_type": "markdown",
   "metadata": {
    "collapsed": false
   },
   "source": [
    "## Težava ker ne dovoli < ampak potrebujem <="
   ]
  },
  {
   "cell_type": "code",
   "execution_count": 30,
   "metadata": {
    "collapsed": false
   },
   "outputs": [
    {
     "ename": "ValueError",
     "evalue": "strict < is not allowed, use <= instead",
     "output_type": "error",
     "traceback": [
      "\u001b[0;31m---------------------------------------------------------------------------\u001b[0m",
      "\u001b[0;31mValueError\u001b[0m                                Traceback (most recent call last)",
      "\u001b[0;32m<ipython-input-30-7cb07648a6bc>\u001b[0m in \u001b[0;36m<module>\u001b[0;34m\u001b[0m\n\u001b[0;32m----> 1\u001b[0;31m \u001b[0mclp2\u001b[0m\u001b[0;34m.\u001b[0m\u001b[0mset_objective\u001b[0m\u001b[0;34m(\u001b[0m\u001b[0mmin_symbolic\u001b[0m\u001b[0;34m(\u001b[0m\u001b[0mnlargest\u001b[0m\u001b[0;34m(\u001b[0m\u001b[0mn\u001b[0m\u001b[0;34m*\u001b[0m\u001b[0;34m(\u001b[0m\u001b[0mInteger\u001b[0m\u001b[0;34m(\u001b[0m\u001b[0;36m2\u001b[0m\u001b[0;34m)\u001b[0m\u001b[0;34m/\u001b[0m\u001b[0mInteger\u001b[0m\u001b[0;34m(\u001b[0m\u001b[0;36m3\u001b[0m\u001b[0;34m)\u001b[0m\u001b[0;34m)\u001b[0m\u001b[0;34m,\u001b[0m\u001b[0;34m(\u001b[0m\u001b[0my\u001b[0m\u001b[0;34m[\u001b[0m\u001b[0mi\u001b[0m\u001b[0;34m,\u001b[0m\u001b[0mj\u001b[0m\u001b[0;34m]\u001b[0m\u001b[0;34m*\u001b[0m\u001b[0mM\u001b[0m\u001b[0;34m[\u001b[0m\u001b[0mi\u001b[0m\u001b[0;34m,\u001b[0m\u001b[0mj\u001b[0m\u001b[0;34m]\u001b[0m \u001b[0;32mfor\u001b[0m \u001b[0mi\u001b[0m \u001b[0;32min\u001b[0m \u001b[0mrange\u001b[0m\u001b[0;34m(\u001b[0m\u001b[0mn\u001b[0m\u001b[0;34m)\u001b[0m \u001b[0;32mfor\u001b[0m \u001b[0mj\u001b[0m \u001b[0;32min\u001b[0m \u001b[0mrange\u001b[0m\u001b[0;34m(\u001b[0m\u001b[0mn\u001b[0m\u001b[0;34m)\u001b[0m\u001b[0;34m)\u001b[0m\u001b[0;34m)\u001b[0m\u001b[0;34m)\u001b[0m\u001b[0;34m)\u001b[0m\u001b[0;34m\u001b[0m\u001b[0;34m\u001b[0m\u001b[0m\n\u001b[0m",
      "\u001b[0;32m/ext/sage/9.4/local/lib/python3.9/heapq.py\u001b[0m in \u001b[0;36mnlargest\u001b[0;34m(n, iterable, key)\u001b[0m\n\u001b[1;32m    552\u001b[0m         \u001b[0m_heapreplace\u001b[0m \u001b[0;34m=\u001b[0m \u001b[0mheapreplace\u001b[0m\u001b[0;34m\u001b[0m\u001b[0;34m\u001b[0m\u001b[0m\n\u001b[1;32m    553\u001b[0m         \u001b[0;32mfor\u001b[0m \u001b[0melem\u001b[0m \u001b[0;32min\u001b[0m \u001b[0mit\u001b[0m\u001b[0;34m:\u001b[0m\u001b[0;34m\u001b[0m\u001b[0;34m\u001b[0m\u001b[0m\n\u001b[0;32m--> 554\u001b[0;31m             \u001b[0;32mif\u001b[0m \u001b[0mtop\u001b[0m \u001b[0;34m<\u001b[0m \u001b[0melem\u001b[0m\u001b[0;34m:\u001b[0m\u001b[0;34m\u001b[0m\u001b[0;34m\u001b[0m\u001b[0m\n\u001b[0m\u001b[1;32m    555\u001b[0m                 \u001b[0m_heapreplace\u001b[0m\u001b[0;34m(\u001b[0m\u001b[0mresult\u001b[0m\u001b[0;34m,\u001b[0m \u001b[0;34m(\u001b[0m\u001b[0melem\u001b[0m\u001b[0;34m,\u001b[0m \u001b[0morder\u001b[0m\u001b[0;34m)\u001b[0m\u001b[0;34m)\u001b[0m\u001b[0;34m\u001b[0m\u001b[0;34m\u001b[0m\u001b[0m\n\u001b[1;32m    556\u001b[0m                 \u001b[0mtop\u001b[0m\u001b[0;34m,\u001b[0m \u001b[0m_order\u001b[0m \u001b[0;34m=\u001b[0m \u001b[0mresult\u001b[0m\u001b[0;34m[\u001b[0m\u001b[0;36m0\u001b[0m\u001b[0;34m]\u001b[0m\u001b[0;34m\u001b[0m\u001b[0;34m\u001b[0m\u001b[0m\n",
      "\u001b[0;32m/ext/sage/9.4/local/lib/python3.9/site-packages/sage/numerical/linear_functions.pyx\u001b[0m in \u001b[0;36msage.numerical.linear_functions.LinearFunctionOrConstraint.__richcmp__ (build/cythonized/sage/numerical/linear_functions.c:3630)\u001b[0;34m()\u001b[0m\n\u001b[1;32m    374\u001b[0m             \u001b[0mequality\u001b[0m \u001b[0;34m=\u001b[0m \u001b[0;32mTrue\u001b[0m\u001b[0;34m\u001b[0m\u001b[0;34m\u001b[0m\u001b[0m\n\u001b[1;32m    375\u001b[0m         \u001b[0;32melif\u001b[0m \u001b[0mop\u001b[0m \u001b[0;34m==\u001b[0m \u001b[0mPy_LT\u001b[0m\u001b[0;34m:\u001b[0m\u001b[0;34m\u001b[0m\u001b[0;34m\u001b[0m\u001b[0m\n\u001b[0;32m--> 376\u001b[0;31m             \u001b[0;32mraise\u001b[0m \u001b[0mValueError\u001b[0m\u001b[0;34m(\u001b[0m\u001b[0;34m\"strict < is not allowed, use <= instead\"\u001b[0m\u001b[0;34m)\u001b[0m\u001b[0;34m\u001b[0m\u001b[0;34m\u001b[0m\u001b[0m\n\u001b[0m\u001b[1;32m    377\u001b[0m         \u001b[0;32melif\u001b[0m \u001b[0mop\u001b[0m \u001b[0;34m==\u001b[0m \u001b[0mPy_GT\u001b[0m\u001b[0;34m:\u001b[0m\u001b[0;34m\u001b[0m\u001b[0;34m\u001b[0m\u001b[0m\n\u001b[1;32m    378\u001b[0m             \u001b[0;32mraise\u001b[0m \u001b[0mValueError\u001b[0m\u001b[0;34m(\u001b[0m\u001b[0;34m\"strict > is not allowed, use >= instead\"\u001b[0m\u001b[0;34m)\u001b[0m\u001b[0;34m\u001b[0m\u001b[0;34m\u001b[0m\u001b[0m\n",
      "\u001b[0;31mValueError\u001b[0m: strict < is not allowed, use <= instead"
     ]
    }
   ],
   "source": [
    "clp2.set_objective(min_symbolic(nlargest(n*(2/3),(y[i,j]*M[i,j] for i in range(n) for j in range(n)))))"
   ]
  },
  {
   "cell_type": "code",
   "execution_count": 31,
   "metadata": {
    "collapsed": false
   },
   "outputs": [
    {
     "data": {
      "text/plain": [
       "0.0"
      ]
     },
     "execution_count": 31,
     "metadata": {
     },
     "output_type": "execute_result"
    }
   ],
   "source": [
    "clp2.solve()"
   ]
  },
  {
   "cell_type": "code",
   "execution_count": 76,
   "metadata": {
    "collapsed": false
   },
   "outputs": [
    {
     "data": {
      "text/plain": [
       "{(0, 0): 0.0,\n",
       " (0, 1): 0.0,\n",
       " (1, 0): 0.0,\n",
       " (0, 2): 0.0,\n",
       " (2, 0): 0.0,\n",
       " (0, 3): 0.0,\n",
       " (3, 0): 0.0,\n",
       " (0, 4): 0.0,\n",
       " (4, 0): 0.0,\n",
       " (0, 5): 0.0,\n",
       " (5, 0): 0.0,\n",
       " (0, 6): 0.0,\n",
       " (6, 0): 1.0,\n",
       " (0, 7): 0.0,\n",
       " (7, 0): 0.0,\n",
       " (0, 8): 0.0,\n",
       " (8, 0): 0.0,\n",
       " (1, 1): 0.0,\n",
       " (1, 2): 1.0,\n",
       " (2, 1): 0.0,\n",
       " (1, 3): 0.0,\n",
       " (3, 1): 0.0,\n",
       " (1, 4): 0.0,\n",
       " (4, 1): 0.0,\n",
       " (1, 5): 0.0,\n",
       " (5, 1): 0.0,\n",
       " (1, 6): 0.0,\n",
       " (6, 1): 0.0,\n",
       " (1, 7): 0.0,\n",
       " (7, 1): 0.0,\n",
       " (1, 8): 1.0,\n",
       " (8, 1): 0.0,\n",
       " (2, 2): 0.0,\n",
       " (2, 3): 0.0,\n",
       " (3, 2): 0.0,\n",
       " (2, 4): 0.0,\n",
       " (4, 2): 0.0,\n",
       " (2, 5): 0.0,\n",
       " (5, 2): 0.0,\n",
       " (2, 6): 0.0,\n",
       " (6, 2): 0.0,\n",
       " (2, 7): 0.0,\n",
       " (7, 2): 0.0,\n",
       " (2, 8): 0.0,\n",
       " (8, 2): 0.0,\n",
       " (3, 3): 0.0,\n",
       " (3, 4): 0.0,\n",
       " (4, 3): 0.0,\n",
       " (3, 5): 0.0,\n",
       " (5, 3): 0.0,\n",
       " (3, 6): 0.0,\n",
       " (6, 3): 1.0,\n",
       " (3, 7): 0.0,\n",
       " (7, 3): 0.0,\n",
       " (3, 8): 0.0,\n",
       " (8, 3): 0.0,\n",
       " (4, 4): 0.0,\n",
       " (4, 5): 1.0,\n",
       " (5, 4): 0.0,\n",
       " (4, 6): 0.0,\n",
       " (6, 4): 0.0,\n",
       " (4, 7): 1.0,\n",
       " (7, 4): 0.0,\n",
       " (4, 8): 0.0,\n",
       " (8, 4): 0.0,\n",
       " (5, 5): 0.0,\n",
       " (5, 6): 0.0,\n",
       " (6, 5): 0.0,\n",
       " (5, 7): 0.0,\n",
       " (7, 5): 0.0,\n",
       " (5, 8): 0.0,\n",
       " (8, 5): 0.0,\n",
       " (6, 6): 0.0,\n",
       " (6, 7): 0.0,\n",
       " (7, 6): 0.0,\n",
       " (6, 8): 0.0,\n",
       " (8, 6): 0.0,\n",
       " (7, 7): 0.0,\n",
       " (7, 8): 0.0,\n",
       " (8, 7): 0.0,\n",
       " (8, 8): 0.0}"
      ]
     },
     "execution_count": 76,
     "metadata": {
     },
     "output_type": "execute_result"
    }
   ],
   "source": [
    "povezave2 = clp2.get_values(y)\n",
    "povezave2"
   ]
  },
  {
   "cell_type": "code",
   "execution_count": 77,
   "metadata": {
    "collapsed": false
   },
   "outputs": [
   ],
   "source": [
    "G2 = Graph([e for e, v in clp2.get_values(y).items() if v == 1])\n",
    "G2._pos = p"
   ]
  },
  {
   "cell_type": "code",
   "execution_count": 78,
   "metadata": {
    "collapsed": false
   },
   "outputs": [
    {
     "data": {
      "image/png": "[encoded data removed]",
      "text/plain": [
       "Graphics object consisting of 16 graphics primitives"
      ]
     },
     "execution_count": 78,
     "metadata": {
     },
     "output_type": "execute_result"
    }
   ],
   "source": [
    "G2.plot()"
   ]
  },
  {
   "cell_type": "code",
   "execution_count": 0,
   "metadata": {
    "collapsed": false
   },
   "outputs": [
   ],
   "source": [
   ]
  },
  {
   "cell_type": "code",
   "execution_count": 0,
   "metadata": {
    "collapsed": false
   },
   "outputs": [
   ],
   "source": [
   ]
  },
  {
   "cell_type": "code",
   "execution_count": 0,
   "metadata": {
    "collapsed": false
   },
   "outputs": [
   ],
   "source": [
   ]
  }
 ],
 "metadata": {
  "kernelspec": {
   "display_name": "SageMath 9.4",
   "language": "sagemath",
   "metadata": {
    "cocalc": {
     "description": "Open-source mathematical software system",
     "priority": 10,
     "url": "https://www.sagemath.org/"
    }
   },
   "name": "sage-9.4",
   "resource_dir": "/ext/jupyter/kernels/sage-9.4"
  },
  "language_info": {
   "codemirror_mode": {
    "name": "ipython",
    "version": 3
   },
   "file_extension": ".py",
   "mimetype": "text/x-python",
   "name": "python",
   "nbconvert_exporter": "python",
   "pygments_lexer": "ipython3",
   "version": "3.9.5"
  }
 },
 "nbformat": 4,
 "nbformat_minor": 4
}